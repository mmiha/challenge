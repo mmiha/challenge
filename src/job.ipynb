{
 "cells": [
  {
   "cell_type": "markdown",
   "metadata": {
    "application/vnd.databricks.v1+cell": {
     "cellMetadata": {
      "byteLimit": 2048000,
      "rowLimit": 10000
     },
     "inputWidgets": {},
     "nuid": "2bbf190d-500f-47c8-ab25-41798e236d5e",
     "showTitle": false,
     "title": ""
    }
   },
   "source": [
    "# Install requirements"
   ]
  },
  {
   "cell_type": "code",
   "execution_count": null,
   "metadata": {
    "application/vnd.databricks.v1+cell": {
     "cellMetadata": {
      "byteLimit": 2048000,
      "rowLimit": 10000
     },
     "inputWidgets": {},
     "nuid": "ea36b8d6-57b9-4633-8f24-deeca3a58cba",
     "showTitle": false,
     "title": ""
    }
   },
   "outputs": [],
   "source": [
    "%pip install -r requirements.txt"
   ]
  },
  {
   "cell_type": "markdown",
   "metadata": {
    "application/vnd.databricks.v1+cell": {
     "cellMetadata": {
      "byteLimit": 2048000,
      "rowLimit": 10000
     },
     "inputWidgets": {},
     "nuid": "1dc2ef96-7302-4691-86cd-43c384477386",
     "showTitle": false,
     "title": ""
    }
   },
   "source": [
    "# Obtain input data"
   ]
  },
  {
   "cell_type": "code",
   "execution_count": null,
   "metadata": {
    "application/vnd.databricks.v1+cell": {
     "cellMetadata": {
      "byteLimit": 2048000,
      "rowLimit": 10000
     },
     "inputWidgets": {},
     "nuid": "4dfcb0cd-912a-4c9c-8da9-0bc1dd00a473",
     "showTitle": false,
     "title": ""
    }
   },
   "outputs": [],
   "source": [
    "import os \n",
    "\n",
    "from challenge import get_datasets, TEMP_PATH"
   ]
  },
  {
   "cell_type": "code",
   "execution_count": null,
   "metadata": {
    "application/vnd.databricks.v1+cell": {
     "cellMetadata": {
      "byteLimit": 2048000,
      "rowLimit": 10000
     },
     "inputWidgets": {},
     "nuid": "71ea233e-c2ac-4a84-99c7-064cce931140",
     "showTitle": false,
     "title": ""
    }
   },
   "outputs": [],
   "source": [
    "conn_string = dbutils.secrets.get(scope=\"storage-secret-scope\", key=\"storage_conn_string\")\n",
    "\n",
    "get_datasets(conn_string)"
   ]
  },
  {
   "cell_type": "code",
   "execution_count": null,
   "metadata": {
    "application/vnd.databricks.v1+cell": {
     "cellMetadata": {
      "byteLimit": 2048000,
      "rowLimit": 10000
     },
     "inputWidgets": {},
     "nuid": "ca0d1259-95a7-4c33-babd-88e0fcf5392a",
     "showTitle": false,
     "title": ""
    }
   },
   "outputs": [],
   "source": [
    "ads_df = spark.read.json(f\"file://{TEMP_PATH}/ads.json\")\n",
    "views_df = spark.read.json(f\"file://{TEMP_PATH}/views.json\")\n"
   ]
  },
  {
   "cell_type": "code",
   "execution_count": null,
   "metadata": {
    "application/vnd.databricks.v1+cell": {
     "cellMetadata": {
      "byteLimit": 2048000,
      "rowLimit": 10000
     },
     "inputWidgets": {},
     "nuid": "17ddd77d-a1ff-4216-a3ec-1de91c12b071",
     "showTitle": false,
     "title": ""
    }
   },
   "outputs": [],
   "source": [
    "ads_df.show()"
   ]
  },
  {
   "cell_type": "markdown",
   "metadata": {
    "application/vnd.databricks.v1+cell": {
     "cellMetadata": {
      "byteLimit": 2048000,
      "rowLimit": 10000
     },
     "inputWidgets": {},
     "nuid": "b82e11c8-7d99-4882-984c-1aa5e07573a3",
     "showTitle": false,
     "title": ""
    }
   },
   "source": [
    "# Flatten and clean datasets"
   ]
  },
  {
   "cell_type": "code",
   "execution_count": null,
   "metadata": {
    "application/vnd.databricks.v1+cell": {
     "cellMetadata": {
      "byteLimit": 2048000,
      "rowLimit": 10000
     },
     "inputWidgets": {},
     "nuid": "7d7efb87-dea1-4e30-8e13-b7f2f150cc54",
     "showTitle": false,
     "title": ""
    }
   },
   "outputs": [],
   "source": [
    "from challenge import flatten, remove_underscores_from_column"
   ]
  },
  {
   "cell_type": "code",
   "execution_count": null,
   "metadata": {
    "application/vnd.databricks.v1+cell": {
     "cellMetadata": {
      "byteLimit": 2048000,
      "rowLimit": 10000
     },
     "inputWidgets": {},
     "nuid": "20b72750-8bfb-4797-9fab-a8e8e12bdbdf",
     "showTitle": false,
     "title": ""
    }
   },
   "outputs": [],
   "source": [
    "ads_df = flatten(ads_df)\n",
    "views_df = flatten(views_df)\n",
    "ads_df.show()"
   ]
  },
  {
   "cell_type": "code",
   "execution_count": null,
   "metadata": {
    "application/vnd.databricks.v1+cell": {
     "cellMetadata": {
      "byteLimit": 2048000,
      "rowLimit": 10000
     },
     "inputWidgets": {},
     "nuid": "dafdcce0-3cf5-4390-8187-9e6a40409aa3",
     "showTitle": false,
     "title": ""
    }
   },
   "outputs": [],
   "source": [
    "ads_df = remove_underscores_from_column(ads_df,\"attributes__exteriorColor\")\n",
    "ads_df.show()\n"
   ]
  },
  {
   "cell_type": "code",
   "execution_count": null,
   "metadata": {
    "application/vnd.databricks.v1+cell": {
     "cellMetadata": {
      "byteLimit": 2048000,
      "rowLimit": 10000
     },
     "inputWidgets": {},
     "nuid": "850d3d79-a23a-4655-99df-7fc98e7c1d77",
     "showTitle": false,
     "title": ""
    }
   },
   "outputs": [],
   "source": []
  }
 ],
 "metadata": {
  "application/vnd.databricks.v1+notebook": {
   "dashboards": [],
   "language": "python",
   "notebookMetadata": {
    "pythonIndentUnit": 4
   },
   "notebookName": "job",
   "widgets": {}
  }
 },
 "nbformat": 4,
 "nbformat_minor": 0
}
