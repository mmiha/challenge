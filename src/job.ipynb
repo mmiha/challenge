{
 "cells": [
  {
   "cell_type": "markdown",
   "metadata": {
    "application/vnd.databricks.v1+cell": {
     "cellMetadata": {
      "byteLimit": 2048000,
      "rowLimit": 10000
     },
     "inputWidgets": {},
     "nuid": "2bbf190d-500f-47c8-ab25-41798e236d5e",
     "showTitle": false,
     "title": ""
    }
   },
   "source": [
    "# Install requirements"
   ]
  },
  {
   "cell_type": "code",
   "execution_count": null,
   "metadata": {
    "application/vnd.databricks.v1+cell": {
     "cellMetadata": {
      "byteLimit": 2048000,
      "rowLimit": 10000
     },
     "inputWidgets": {},
     "nuid": "ea36b8d6-57b9-4633-8f24-deeca3a58cba",
     "showTitle": false,
     "title": ""
    }
   },
   "outputs": [],
   "source": [
    "%pip install -r requirements.txt"
   ]
  },
  {
   "cell_type": "markdown",
   "metadata": {
    "application/vnd.databricks.v1+cell": {
     "cellMetadata": {
      "byteLimit": 2048000,
      "rowLimit": 10000
     },
     "inputWidgets": {},
     "nuid": "1dc2ef96-7302-4691-86cd-43c384477386",
     "showTitle": false,
     "title": ""
    }
   },
   "source": [
    "# Obtain input data"
   ]
  },
  {
   "cell_type": "code",
   "execution_count": null,
   "metadata": {
    "application/vnd.databricks.v1+cell": {
     "cellMetadata": {
      "byteLimit": 2048000,
      "rowLimit": 10000
     },
     "inputWidgets": {},
     "nuid": "4dfcb0cd-912a-4c9c-8da9-0bc1dd00a473",
     "showTitle": false,
     "title": ""
    }
   },
   "outputs": [],
   "source": [
    "import os \n",
    "\n",
    "from challenge import AzureStorageConnector, TEMP_PATH"
   ]
  },
  {
   "cell_type": "code",
   "execution_count": null,
   "metadata": {
    "application/vnd.databricks.v1+cell": {
     "cellMetadata": {
      "byteLimit": 2048000,
      "rowLimit": 10000
     },
     "inputWidgets": {},
     "nuid": "71ea233e-c2ac-4a84-99c7-064cce931140",
     "showTitle": false,
     "title": ""
    }
   },
   "outputs": [],
   "source": [
    "conn_string = dbutils.secrets.get(scope=\"storage-secret-scope\", key=\"storage_conn_string\")\n",
    "\n",
    "storage_connector = AzureStorageConnector(conn_string)\n",
    "\n",
    "for file_name in [\"ads.json\", \"views.json\"]:\n",
    "    storage_connector.get_file(file_name)"
   ]
  },
  {
   "cell_type": "code",
   "execution_count": null,
   "metadata": {
    "application/vnd.databricks.v1+cell": {
     "cellMetadata": {
      "byteLimit": 2048000,
      "rowLimit": 10000
     },
     "inputWidgets": {},
     "nuid": "ca0d1259-95a7-4c33-babd-88e0fcf5392a",
     "showTitle": false,
     "title": ""
    }
   },
   "outputs": [],
   "source": [
    "ads_df = spark.read.json(f\"file://{TEMP_PATH}/ads.json\")\n",
    "views_df = spark.read.json(f\"file://{TEMP_PATH}/views.json\")\n"
   ]
  },
  {
   "cell_type": "code",
   "execution_count": null,
   "metadata": {
    "application/vnd.databricks.v1+cell": {
     "cellMetadata": {
      "byteLimit": 2048000,
      "rowLimit": 10000
     },
     "inputWidgets": {},
     "nuid": "17ddd77d-a1ff-4216-a3ec-1de91c12b071",
     "showTitle": false,
     "title": ""
    }
   },
   "outputs": [],
   "source": [
    "ads_df.show()"
   ]
  },
  {
   "cell_type": "markdown",
   "metadata": {
    "application/vnd.databricks.v1+cell": {
     "cellMetadata": {
      "byteLimit": 2048000,
      "rowLimit": 10000
     },
     "inputWidgets": {},
     "nuid": "b82e11c8-7d99-4882-984c-1aa5e07573a3",
     "showTitle": false,
     "title": ""
    }
   },
   "source": [
    "# Flatten and clean datasets"
   ]
  },
  {
   "cell_type": "code",
   "execution_count": null,
   "metadata": {
    "application/vnd.databricks.v1+cell": {
     "cellMetadata": {
      "byteLimit": 2048000,
      "rowLimit": 10000
     },
     "inputWidgets": {},
     "nuid": "7d7efb87-dea1-4e30-8e13-b7f2f150cc54",
     "showTitle": false,
     "title": ""
    }
   },
   "outputs": [],
   "source": [
    "from challenge import flatten, remove_underscores_from_column"
   ]
  },
  {
   "cell_type": "code",
   "execution_count": null,
   "metadata": {
    "application/vnd.databricks.v1+cell": {
     "cellMetadata": {
      "byteLimit": 2048000,
      "rowLimit": 10000
     },
     "inputWidgets": {},
     "nuid": "20b72750-8bfb-4797-9fab-a8e8e12bdbdf",
     "showTitle": false,
     "title": ""
    }
   },
   "outputs": [],
   "source": [
    "ads_df = flatten(ads_df)\n",
    "views_df = flatten(views_df)\n",
    "ads_df.show()"
   ]
  },
  {
   "cell_type": "code",
   "execution_count": null,
   "metadata": {
    "application/vnd.databricks.v1+cell": {
     "cellMetadata": {
      "byteLimit": 2048000,
      "rowLimit": 10000
     },
     "inputWidgets": {},
     "nuid": "dafdcce0-3cf5-4390-8187-9e6a40409aa3",
     "showTitle": false,
     "title": ""
    }
   },
   "outputs": [],
   "source": [
    "ads_df = remove_underscores_from_column(ads_df,\"attributes__exteriorColor\")\n",
    "ads_df.show()\n"
   ]
  },
  {
   "cell_type": "markdown",
   "metadata": {
    "application/vnd.databricks.v1+cell": {
     "cellMetadata": {
      "byteLimit": 2048000,
      "rowLimit": 10000
     },
     "inputWidgets": {},
     "nuid": "850d3d79-a23a-4655-99df-7fc98e7c1d77",
     "showTitle": false,
     "title": ""
    }
   },
   "source": [
    "# Aggregations"
   ]
  },
  {
   "cell_type": "code",
   "execution_count": null,
   "metadata": {
    "application/vnd.databricks.v1+cell": {
     "cellMetadata": {
      "byteLimit": 2048000,
      "rowLimit": 10000
     },
     "inputWidgets": {},
     "nuid": "7c9c9a3d-57da-469d-ae6e-bad364720765",
     "showTitle": false,
     "title": ""
    }
   },
   "outputs": [],
   "source": [
    "ads_pdf = ads_df.pandas_api()\n",
    "views_pdf = views_df.pandas_api()\n"
   ]
  },
  {
   "cell_type": "code",
   "execution_count": null,
   "metadata": {
    "application/vnd.databricks.v1+cell": {
     "cellMetadata": {
      "byteLimit": 2048000,
      "rowLimit": 10000
     },
     "inputWidgets": {},
     "nuid": "b27d88c2-c25a-493a-ba2d-e54992691c8e",
     "showTitle": false,
     "title": ""
    }
   },
   "outputs": [],
   "source": [
    "ads_pdf[\"price__consumerValue__gross\"] = ads_pdf[\"price__consumerValue__gross\"].astype(int)"
   ]
  },
  {
   "cell_type": "markdown",
   "metadata": {
    "application/vnd.databricks.v1+cell": {
     "cellMetadata": {
      "byteLimit": 2048000,
      "rowLimit": 10000
     },
     "inputWidgets": {},
     "nuid": "f635aeeb-6ced-4893-b3d9-5eba77675b3e",
     "showTitle": false,
     "title": ""
    }
   },
   "source": [
    "The top 3 most expensive cars (gross) per make/model are:"
   ]
  },
  {
   "cell_type": "code",
   "execution_count": null,
   "metadata": {
    "application/vnd.databricks.v1+cell": {
     "cellMetadata": {
      "byteLimit": 2048000,
      "rowLimit": 10000
     },
     "inputWidgets": {},
     "nuid": "358d7d8c-fe2e-450e-a697-cca28445b923",
     "showTitle": false,
     "title": ""
    }
   },
   "outputs": [],
   "source": [
    "most_expensive = ads_pdf.groupby([\"make\",\"model\"])[\"price__consumerValue__gross\"].mean().reset_index()[:3]\n",
    "\n",
    "print(\"The most expensive car models are:\")\n",
    "for i, row in most_expensive.iterrows():\n",
    "    print(f\"{i+1}. {row['make']} {row['model']} - {round(row['price__consumerValue__gross'],2)} EUR\")"
   ]
  },
  {
   "cell_type": "code",
   "execution_count": null,
   "metadata": {
    "application/vnd.databricks.v1+cell": {
     "cellMetadata": {
      "byteLimit": 2048000,
      "rowLimit": 10000
     },
     "inputWidgets": {},
     "nuid": "b6bea1c0-4907-424f-b38b-a93d90c7d279",
     "showTitle": false,
     "title": ""
    }
   },
   "outputs": [],
   "source": [
    "ads_pdf.head()"
   ]
  },
  {
   "cell_type": "code",
   "execution_count": null,
   "metadata": {
    "application/vnd.databricks.v1+cell": {
     "cellMetadata": {
      "byteLimit": 2048000,
      "rowLimit": 10000
     },
     "inputWidgets": {},
     "nuid": "b7706d3a-5967-4e16-8e83-9f803693de6c",
     "showTitle": false,
     "title": ""
    }
   },
   "outputs": [],
   "source": [
    "views_pdf.head()"
   ]
  },
  {
   "cell_type": "code",
   "execution_count": null,
   "metadata": {
    "application/vnd.databricks.v1+cell": {
     "cellMetadata": {
      "byteLimit": 2048000,
      "rowLimit": 10000
     },
     "inputWidgets": {},
     "nuid": "3dcd00c6-b7af-4f48-9ba5-06e7a4cd9f45",
     "showTitle": false,
     "title": ""
    }
   },
   "outputs": [],
   "source": [
    "merged_pdf = ads_pdf.merge(views_pdf, left_on=\"id\", right_on=\"ad__id\")\n",
    "merged_pdf.head()"
   ]
  },
  {
   "cell_type": "markdown",
   "metadata": {
    "application/vnd.databricks.v1+cell": {
     "cellMetadata": {
      "byteLimit": 2048000,
      "rowLimit": 10000
     },
     "inputWidgets": {},
     "nuid": "cb66e26a-37fb-4eb6-b2f9-65b75f1d371b",
     "showTitle": false,
     "title": ""
    }
   },
   "source": [
    "The most popular colors of cars based on ad interaction are:"
   ]
  },
  {
   "cell_type": "code",
   "execution_count": null,
   "metadata": {
    "application/vnd.databricks.v1+cell": {
     "cellMetadata": {
      "byteLimit": 2048000,
      "rowLimit": 10000
     },
     "inputWidgets": {},
     "nuid": "9e3d4991-99d2-4d46-a0ea-f8de9057c253",
     "showTitle": false,
     "title": ""
    }
   },
   "outputs": [],
   "source": [
    "color_popularity = merged_pdf.groupby(\"attributes__exteriorColor\")[\"id\"].count().sort_values(ascending=False)[:3]\n",
    "\n",
    "print(\"The most popular colors are:\")\n",
    "for color, views in color_popularity.items():\n",
    "    print(f\"{color} - {views} views\")"
   ]
  },
  {
   "cell_type": "code",
   "execution_count": null,
   "metadata": {
    "application/vnd.databricks.v1+cell": {
     "cellMetadata": {
      "byteLimit": 2048000,
      "rowLimit": 10000
     },
     "inputWidgets": {},
     "nuid": "190a5f31-ba91-4536-a71e-c4294f7d5e69",
     "showTitle": false,
     "title": ""
    }
   },
   "outputs": [],
   "source": [
    "ad_durations = views_pdf.groupby(\"ad__id\").agg({\"event__time\":[\"min\",\"max\"]})\n",
    "ad_durations.columns = [\"min_time\",\"max_time\"]\n",
    "ad_durations[\"time_delta\"] = ad_durations[\"max_time\"]-ad_durations[\"min_time\"]\n",
    "ad_durations"
   ]
  },
  {
   "cell_type": "markdown",
   "metadata": {
    "application/vnd.databricks.v1+cell": {
     "cellMetadata": {
      "byteLimit": 2048000,
      "rowLimit": 10000
     },
     "inputWidgets": {},
     "nuid": "49bbdc51-9164-4252-b866-e5d2bd6f04ba",
     "showTitle": false,
     "title": ""
    }
   },
   "source": [
    "# Write output files"
   ]
  },
  {
   "cell_type": "code",
   "execution_count": null,
   "metadata": {
    "application/vnd.databricks.v1+cell": {
     "cellMetadata": {
      "byteLimit": 2048000,
      "rowLimit": 10000
     },
     "inputWidgets": {},
     "nuid": "cfc95a71-eb4e-4c3c-ad0d-0364ac61d0f6",
     "showTitle": false,
     "title": ""
    }
   },
   "outputs": [],
   "source": [
    "file_path = os.path.join(f\"file://{TEMP_PATH}\",\"_ad_durations.csv\")\n",
    "\n",
    "ad_durations.to_csv(file_path)\n"
   ]
  },
  {
   "cell_type": "code",
   "execution_count": null,
   "metadata": {
    "application/vnd.databricks.v1+cell": {
     "cellMetadata": {
      "byteLimit": 2048000,
      "rowLimit": 10000
     },
     "inputWidgets": {},
     "nuid": "fed344a8-5ad5-465c-88c0-77de6dd633fd",
     "showTitle": false,
     "title": ""
    }
   },
   "outputs": [],
   "source": [
    "ads_df.repartition(1).write.parquet(os.path.join(f\"file://{TEMP_PATH}\",\"_ads.parquet\"),\"overwrite\")"
   ]
  },
  {
   "cell_type": "code",
   "execution_count": null,
   "metadata": {
    "application/vnd.databricks.v1+cell": {
     "cellMetadata": {
      "byteLimit": 2048000,
      "rowLimit": 10000
     },
     "inputWidgets": {},
     "nuid": "f3c1467a-3ed3-4bd9-8ed4-50325a4cf844",
     "showTitle": false,
     "title": ""
    }
   },
   "outputs": [],
   "source": [
    "views_df.repartition(1).write.parquet(os.path.join(f\"file://{TEMP_PATH}\",\"_views.parquet\"),\"overwrite\")"
   ]
  },
  {
   "cell_type": "code",
   "execution_count": null,
   "metadata": {
    "application/vnd.databricks.v1+cell": {
     "cellMetadata": {
      "byteLimit": 2048000,
      "rowLimit": 10000
     },
     "inputWidgets": {},
     "nuid": "80bae31d-4d96-493f-b478-a2a73cfece5a",
     "showTitle": false,
     "title": ""
    }
   },
   "outputs": [],
   "source": [
    "for file_name in [\"ad_durations.csv\",\"ads.parquet\",\"views.parquet\"]:\n",
    "    file_ext = file_name.split(\".\")[-1]\n",
    "    os.system(f\"mv {TEMP_PATH}/_{file_name}/*.{file_ext} {TEMP_PATH}/{file_name}\")\n",
    "    storage_connector.write_file(file_name)"
   ]
  },
  {
   "cell_type": "markdown",
   "metadata": {
    "application/vnd.databricks.v1+cell": {
     "cellMetadata": {},
     "inputWidgets": {},
     "nuid": "d673009b-ad92-4a5f-b14a-3dca5360282a",
     "showTitle": false,
     "title": ""
    }
   },
   "source": [
    "# Clean up"
   ]
  },
  {
   "cell_type": "code",
   "execution_count": null,
   "metadata": {
    "application/vnd.databricks.v1+cell": {
     "cellMetadata": {
      "byteLimit": 2048000,
      "rowLimit": 10000
     },
     "inputWidgets": {},
     "nuid": "5dccf4c6-b559-4dcd-8f81-eef044cf9f9c",
     "showTitle": false,
     "title": ""
    }
   },
   "outputs": [],
   "source": [
    "%sh \n",
    "rm -rf /tmp/challenge-data/*"
   ]
  },
  {
   "cell_type": "code",
   "execution_count": null,
   "metadata": {
    "application/vnd.databricks.v1+cell": {
     "cellMetadata": {},
     "inputWidgets": {},
     "nuid": "400a9664-0ce7-4629-ac01-854d801c1bc3",
     "showTitle": false,
     "title": ""
    }
   },
   "outputs": [],
   "source": []
  }
 ],
 "metadata": {
  "application/vnd.databricks.v1+notebook": {
   "dashboards": [],
   "language": "python",
   "notebookMetadata": {
    "mostRecentlyExecutedCommandWithImplicitDF": {
     "commandId": 3181119427361600,
     "dataframes": [
      "_sqldf"
     ]
    },
    "pythonIndentUnit": 4
   },
   "notebookName": "job",
   "widgets": {}
  }
 },
 "nbformat": 4,
 "nbformat_minor": 0
}
